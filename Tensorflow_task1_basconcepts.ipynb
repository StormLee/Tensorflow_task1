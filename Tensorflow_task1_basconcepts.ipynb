{
 "cells": [
  {
   "cell_type": "markdown",
   "metadata": {},
   "source": [
    "\n",
    "\n",
    "准确率、精确率、召回率和 F 值各自定义先：\n",
    "\n",
    "TP-将正类预测为正类\n",
    "\n",
    "FN-将正类预测为负类\n",
    "\n",
    "FP-将负类预测位正类\n",
    "\n",
    "TN-将负类预测位负类\n",
    "\n",
    "准确率（正确率）=所有预测正确的样本/总的样本 （TP+TN）/总\n",
    "\n",
    "精确率= 将正类预测为正类 / 所有预测为正类 TP/（TP+FP）\n",
    "\n",
    "召回率 = 将正类预测为正类 / 所有正真的正类 TP/（TP+FN）\n",
    "\n",
    "F值 = 正确率 * 召回率 * 2 / (正确率 + 召回率) （F 值即为正确率和召回率的调和平均值）\n",
    "ROC（Receiver Operating Characteristic）曲线是以假正率（FP_rate）和真正率（TP_rate）为轴的曲线，ROC曲线下面的面积我们叫做AUC.\n"
   ]
  },
  {
   "cell_type": "code",
   "execution_count": null,
   "metadata": {},
   "outputs": [],
   "source": []
  }
 ],
 "metadata": {
  "kernelspec": {
   "display_name": "Python 3",
   "language": "python",
   "name": "python3"
  },
  "language_info": {
   "codemirror_mode": {
    "name": "ipython",
    "version": 3
   },
   "file_extension": ".py",
   "mimetype": "text/x-python",
   "name": "python",
   "nbconvert_exporter": "python",
   "pygments_lexer": "ipython3",
   "version": "3.6.5"
  }
 },
 "nbformat": 4,
 "nbformat_minor": 2
}
